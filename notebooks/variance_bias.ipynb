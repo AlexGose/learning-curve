{
  "cells": [
    {
      "cell_type": "markdown",
      "metadata": {
        "id": "8KCXCCO4fMKy"
      },
      "source": [
        "# Variance and Bias Detection\n",
        "\n",
        "These are examples of learning curves used to detect variance and bias in Pytorch models.  \n",
        "\n",
        "## Variance Detection\n",
        "\n",
        "Here's an example of a learning curve for a high variance Pytorch model.  The data set and neural network model architecture were suggested by [ChatGPT](https://chat.openai.com/) on 26 Feburary 2023 (using \"ChatGPT Feb 13 version\").\n",
        "\n",
        "When prompted for a data set and neural network architecture that overfits the data, ChatGPT suggested two hidden layers with 1024 and 512 nodes, along with ReLU activation and dropout.  Training with 500 data points of the [MNIST data set](http://yann.lecun.com/exdb/mnist/) while using 100 epochs for training was also recommended.  Below is the implementation of that model and the resulting learning curve.\n",
        "\n",
        "The larger number of parameters and extra layers, compared to the example in the [gpu-minibatch.ipynb](https://github.com/AlexGose/learning-curve/blob/main/notebooks/gpu_minibatch.ipynb) notebook, seemed to help induce over-fitting. However, the leveling off of the testing accuracy is clearer, given the random number seeds chosen below, after increasing the number of training data points to 800 and avoiding the use of dropout.  A careful analysis of the learning curves could be done by conducting a test to determine if the leveling off is statistically significant."
      ]
    },
    {
      "cell_type": "code",
      "execution_count": null,
      "metadata": {
        "id": "XU0qUp4O39rm"
      },
      "outputs": [],
      "source": [
        "!pip list"
      ]
    },
    {
      "cell_type": "code",
      "execution_count": 1,
      "metadata": {
        "colab": {
          "base_uri": "https://localhost:8080/"
        },
        "id": "zStA9UuT4DZO",
        "outputId": "e65f0fff-0b7d-4c9a-b25c-740bf5257856"
      },
      "outputs": [
        {
          "output_type": "stream",
          "name": "stdout",
          "text": [
            "Looking in indexes: https://pypi.org/simple, https://us-python.pkg.dev/colab-wheels/public/simple/\n",
            "Collecting skorch\n",
            "  Downloading skorch-0.12.1-py3-none-any.whl (193 kB)\n",
            "\u001b[2K     \u001b[90m━━━━━━━━━━━━━━━━━━━━━━━━━━━━━━━━━━━━━━━\u001b[0m \u001b[32m193.7/193.7 KB\u001b[0m \u001b[31m8.1 MB/s\u001b[0m eta \u001b[36m0:00:00\u001b[0m\n",
            "\u001b[?25hRequirement already satisfied: scikit-learn in /usr/local/lib/python3.8/dist-packages (1.2.1)\n",
            "Requirement already satisfied: scipy>=1.1.0 in /usr/local/lib/python3.8/dist-packages (from skorch) (1.10.1)\n",
            "Requirement already satisfied: numpy>=1.13.3 in /usr/local/lib/python3.8/dist-packages (from skorch) (1.22.4)\n",
            "Requirement already satisfied: tabulate>=0.7.7 in /usr/local/lib/python3.8/dist-packages (from skorch) (0.8.10)\n",
            "Requirement already satisfied: tqdm>=4.14.0 in /usr/local/lib/python3.8/dist-packages (from skorch) (4.64.1)\n",
            "Requirement already satisfied: joblib>=1.1.1 in /usr/local/lib/python3.8/dist-packages (from scikit-learn) (1.2.0)\n",
            "Requirement already satisfied: threadpoolctl>=2.0.0 in /usr/local/lib/python3.8/dist-packages (from scikit-learn) (3.1.0)\n",
            "Installing collected packages: skorch\n",
            "Successfully installed skorch-0.12.1\n"
          ]
        }
      ],
      "source": [
        "# Packages to install on Google Colab\n",
        "!pip install --upgrade skorch scikit-learn # need scikit-learn v1.2"
      ]
    },
    {
      "cell_type": "code",
      "execution_count": 2,
      "metadata": {
        "id": "1h3zXdZT3uzw"
      },
      "outputs": [],
      "source": [
        "import numpy as np\n",
        "import pandas as pd\n",
        "from sklearn.model_selection import LearningCurveDisplay\n",
        "from sklearn.metrics import accuracy_score, make_scorer, ConfusionMatrixDisplay\n",
        "import torch\n",
        "import torch.nn as nn\n",
        "from torch.utils.data import DataLoader\n",
        "import torchvision\n",
        "from skorch import NeuralNetClassifier, NeuralNetBinaryClassifier\n",
        "import matplotlib.pyplot as plt"
      ]
    },
    {
      "cell_type": "code",
      "source": [
        "torch.manual_seed(1)\n",
        "torch.cuda.manual_seed(1)\n",
        "np.random.seed(1)"
      ],
      "metadata": {
        "id": "8uSeZ0G-XTWt"
      },
      "execution_count": 12,
      "outputs": []
    },
    {
      "cell_type": "code",
      "execution_count": 13,
      "metadata": {
        "id": "5cuWO3Tk23ST"
      },
      "outputs": [],
      "source": [
        "train_data = torchvision.datasets.MNIST('.',train=True, download=True)\n",
        "test_data = torchvision.datasets.MNIST('.',train=False, download=True)"
      ]
    },
    {
      "cell_type": "code",
      "execution_count": 14,
      "metadata": {
        "id": "GUwDbp3OxMLf"
      },
      "outputs": [],
      "source": [
        "height=train_data.data.shape[1]\n",
        "width=train_data.data.shape[2]\n",
        "num_pixels = height*width"
      ]
    },
    {
      "cell_type": "code",
      "execution_count": 15,
      "metadata": {
        "id": "ltk2Uv-55DTr"
      },
      "outputs": [],
      "source": [
        "X_train = train_data.data.view(-1,num_pixels).detach().numpy().astype(np.float32) / 255\n",
        "X_test = test_data.data.view(-1,num_pixels).detach().numpy().astype(np.float32) / 255\n",
        "X = np.vstack((X_train,X_test))"
      ]
    },
    {
      "cell_type": "code",
      "execution_count": 16,
      "metadata": {
        "id": "wMiehg315E6i"
      },
      "outputs": [],
      "source": [
        "y_train = train_data.targets.detach().numpy().astype(np.int64)\n",
        "y_test = test_data.targets.detach().numpy().astype(np.int64)\n",
        "y = np.concatenate((y_train, y_test))"
      ]
    },
    {
      "cell_type": "code",
      "execution_count": 17,
      "metadata": {
        "colab": {
          "base_uri": "https://localhost:8080/"
        },
        "id": "aEoz6gbX5LET",
        "outputId": "96713a6c-7620-4e64-a13f-fb9873ab50cc"
      },
      "outputs": [
        {
          "output_type": "stream",
          "name": "stdout",
          "text": [
            "cuda:0\n"
          ]
        }
      ],
      "source": [
        "device = 'cuda:0' if torch.cuda.is_available() else 'cpu'\n",
        "print(device)"
      ]
    },
    {
      "cell_type": "code",
      "execution_count": 18,
      "metadata": {
        "id": "GglLYcCt5Q9Z"
      },
      "outputs": [],
      "source": [
        "class ClassifierModule(nn.Module):\n",
        "    def __init__(self, num_units1=150, num_units2=100):\n",
        "        super().__init__()\n",
        "        self.dense0 = nn.Linear(num_pixels, num_units1)\n",
        "        self.nonlin = nn.ReLU()\n",
        "        self.dense1 = nn.Linear(num_units1, num_units2)\n",
        "        self.output = nn.Linear(num_units2,10)\n",
        "        self.dropout = nn.Dropout(0.5)\n",
        "\n",
        "    def forward(self, X, **kwargs):\n",
        "        X = self.dense0(X)\n",
        "        X = self.nonlin(X)\n",
        "        #X = self.dropout(X)\n",
        "        X = self.dense1(X)\n",
        "        X = self.nonlin(X)\n",
        "        #X = self.dropout(X)\n",
        "        X = self.output(X)\n",
        "        return X"
      ]
    },
    {
      "cell_type": "code",
      "execution_count": 19,
      "metadata": {
        "id": "zQ0yKCR05Xe2"
      },
      "outputs": [],
      "source": [
        "net = NeuralNetClassifier(\n",
        "    ClassifierModule,\n",
        "    module__num_units1=1024,\n",
        "    module__num_units2=512,\n",
        "    max_epochs=100,\n",
        "    criterion=nn.CrossEntropyLoss(),\n",
        "    optimizer=torch.optim.Adam,\n",
        "    device=device,\n",
        "    batch_size=128,\n",
        "    warm_start=True,\n",
        "    # Shuffle training data on each epoch\n",
        "    iterator_train__shuffle=True,\n",
        "    verbose=0\n",
        ")"
      ]
    },
    {
      "cell_type": "markdown",
      "metadata": {
        "id": "rgx8dY0Tl-2W"
      },
      "source": [
        "The learning curves below show a sizeable gap between the testing and training accuracy towards the right of the plot.  Due to the leveling off of both curves, more training data is unlikely to close the gap.  If the desired testing accuracy is higher than 85 percent, for example 95 percent, then this learning curve plot suggests the model has too much variance."
      ]
    },
    {
      "cell_type": "code",
      "execution_count": 20,
      "metadata": {
        "colab": {
          "base_uri": "https://localhost:8080/",
          "height": 367
        },
        "id": "6Np8XP-G5X8i",
        "outputId": "3d710bbe-f02c-46e3-dedb-891ffed11efc"
      },
      "outputs": [
        {
          "output_type": "stream",
          "name": "stderr",
          "text": [
            "/usr/local/lib/python3.8/dist-packages/sklearn/model_selection/_split.py:700: UserWarning: The least populated class in y has only 4 members, which is less than n_splits=5.\n",
            "  warnings.warn(\n"
          ]
        },
        {
          "output_type": "execute_result",
          "data": {
            "text/plain": [
              "Text(0.5, 1.0, 'Learning Curve')"
            ]
          },
          "metadata": {},
          "execution_count": 20
        },
        {
          "output_type": "display_data",
          "data": {
            "text/plain": [
              "<Figure size 432x288 with 1 Axes>"
            ],
            "image/png": "[encoded data removed]"
          },
          "metadata": {
            "needs_background": "light"
          }
        }
      ],
      "source": [
        "lcd = LearningCurveDisplay.from_estimator(net, X, y, score_type='both', \n",
        "                std_display_style=None, score_name='Accuracy', \n",
        "    scoring=make_scorer(accuracy_score),\n",
        "    train_sizes=np.arange(100,801,100))\n",
        "lcd.ax_.set_title('Learning Curve')"
      ]
    },
    {
      "cell_type": "code",
      "source": [
        "lcd.ax_.get_figure().savefig('variance.png', facecolor='white', transparent=False)"
      ],
      "metadata": {
        "id": "WCuhieNv8Shf"
      },
      "execution_count": 21,
      "outputs": []
    },
    {
      "cell_type": "markdown",
      "metadata": {
        "id": "lRLnkredF4Uq"
      },
      "source": [
        "## Bias\n",
        "\n",
        "Here's an example of a learning curve for a high bias Pytorch model.  The [data set](https://archive.ics.uci.edu/ml/datasets/mushroom) is used to predict whether mushrooms are edible or poisonous based on over 20 categorical features, but only a few features are selected in order to induce bias in the model.  A conveniently formatted CSV file is downloaded below from the datahub.io website."
      ]
    },
    {
      "cell_type": "code",
      "source": [
        "torch.manual_seed(1)\n",
        "torch.cuda.manual_seed(1)\n",
        "np.random.seed(1)"
      ],
      "metadata": {
        "id": "-ZiFHiq5bfCZ"
      },
      "execution_count": 22,
      "outputs": []
    },
    {
      "cell_type": "code",
      "source": [
        "!wget https://datahub.io/machine-learning/mushroom/r/mushroom.csv"
      ],
      "metadata": {
        "colab": {
          "base_uri": "https://localhost:8080/"
        },
        "id": "R1issOvTYR0H",
        "outputId": "ccce0f3f-d627-4d01-abcc-0fdba78aeaf4"
      },
      "execution_count": 23,
      "outputs": [
        {
          "output_type": "stream",
          "name": "stdout",
          "text": [
            "--2023-03-06 15:00:17--  https://datahub.io/machine-learning/mushroom/r/mushroom.csv\n",
            "Resolving datahub.io (datahub.io)... 104.21.40.221, 172.67.157.38, 2606:4700:3033::6815:28dd, ...\n",
            "Connecting to datahub.io (datahub.io)|104.21.40.221|:443... connected.\n",
            "HTTP request sent, awaiting response... 302 Found\n",
            "Location: https://pkgstore.datahub.io/machine-learning/mushroom/mushroom_csv/data/652524e2d0176fbc16354df92fe91fcd/mushroom_csv.csv [following]\n",
            "--2023-03-06 15:00:18--  https://pkgstore.datahub.io/machine-learning/mushroom/mushroom_csv/data/652524e2d0176fbc16354df92fe91fcd/mushroom_csv.csv\n",
            "Resolving pkgstore.datahub.io (pkgstore.datahub.io)... 104.21.40.221, 172.67.157.38, 2606:4700:3033::6815:28dd, ...\n",
            "Connecting to pkgstore.datahub.io (pkgstore.datahub.io)|104.21.40.221|:443... connected.\n",
            "HTTP request sent, awaiting response... 200 OK\n",
            "Length: 379652 (371K) [text/csv]\n",
            "Saving to: ‘mushroom.csv’\n",
            "\n",
            "mushroom.csv        100%[===================>] 370.75K  --.-KB/s    in 0.007s  \n",
            "\n",
            "2023-03-06 15:00:18 (54.7 MB/s) - ‘mushroom.csv’ saved [379652/379652]\n",
            "\n"
          ]
        }
      ]
    },
    {
      "cell_type": "code",
      "source": [
        "shroom_data = pd.read_csv('mushroom.csv', low_memory=False)"
      ],
      "metadata": {
        "id": "FRuHygOkP9fV"
      },
      "execution_count": 24,
      "outputs": []
    },
    {
      "cell_type": "code",
      "source": [
        "for col in shroom_data.columns: # scale the data\n",
        "    values = list(shroom_data[col].unique())\n",
        "    shroom_data[col] = np.vectorize(lambda x: values.index(x))(shroom_data[col])\n",
        "    if shroom_data[col].max() > 0:\n",
        "        shroom_data[col] = shroom_data[col] / shroom_data[col].max()"
      ],
      "metadata": {
        "id": "j_HdUQG4WWmG"
      },
      "execution_count": 25,
      "outputs": []
    },
    {
      "cell_type": "code",
      "source": [
        "X = shroom_data.iloc[:,:-1].values.astype(np.float32)\n",
        "y = shroom_data.iloc[:,-1].values.astype(np.float32)"
      ],
      "metadata": {
        "id": "dmtCmsHQXTEP"
      },
      "execution_count": 26,
      "outputs": []
    },
    {
      "cell_type": "code",
      "source": [
        "# only a few columns are selected from the input data\n",
        "cols_selected = [5,7,17]\n",
        "num_cols = len(cols_selected)\n",
        "X = X[:,cols_selected].reshape((-1,num_cols))"
      ],
      "metadata": {
        "id": "lbgxhVvatcWY"
      },
      "execution_count": 27,
      "outputs": []
    },
    {
      "cell_type": "code",
      "execution_count": 28,
      "metadata": {
        "id": "DfdOpHmbGEH5"
      },
      "outputs": [],
      "source": [
        "class MushroomClassifier(nn.Module):\n",
        "    def __init__(self, num_units=5):\n",
        "        super().__init__()\n",
        "        self.dense0 = nn.Linear(num_cols, num_units)\n",
        "        self.nonlin = nn.ReLU()\n",
        "        self.dense1 = nn.Linear(num_units,10)\n",
        "        self.output = nn.Linear(10,1)\n",
        "        self.dropout = nn.Dropout(0.5)\n",
        "\n",
        "    def forward(self, X, **kwargs):\n",
        "        X = self.dense0(X)\n",
        "        X = self.nonlin(X)\n",
        "        X = self.dropout(X)\n",
        "        X = self.dense1(X)\n",
        "        X = self.nonlin(X)\n",
        "        X = self.dropout(X)\n",
        "        X = self.output(X)\n",
        "        return X"
      ]
    },
    {
      "cell_type": "code",
      "execution_count": 29,
      "metadata": {
        "id": "aHk7PUJASkJ9"
      },
      "outputs": [],
      "source": [
        "net = NeuralNetBinaryClassifier(\n",
        "    MushroomClassifier,\n",
        "    module__num_units=20,\n",
        "    max_epochs=20,\n",
        "    optimizer=torch.optim.Adam,\n",
        "    device='cuda',\n",
        "    batch_size=50,\n",
        "    warm_start=True,\n",
        "    # Shuffle training data on each epoch\n",
        "    iterator_train__shuffle=True,\n",
        "    verbose=0\n",
        ")"
      ]
    },
    {
      "cell_type": "markdown",
      "source": [
        "Suppose the desired performance is above 85% testing accuracy, then both lines end up well below this mark towards the right of the plot below.  This suggests bias in the model.\n",
        "\n",
        "The training metric is no longer decreasing towards the right of the plot.  Similarly, the test metric is relatively stable in this region as well.  This suggests additional data may not eliminate the bias, but a statistical test could be conducted to determine if the training curve is non-decreasing and the testing curve is non-increasing.\n",
        "\n"
      ],
      "metadata": {
        "id": "LnC1lVlKLJBE"
      }
    },
    {
      "cell_type": "code",
      "execution_count": 30,
      "metadata": {
        "colab": {
          "base_uri": "https://localhost:8080/",
          "height": 312
        },
        "id": "DDRliy1YSslz",
        "outputId": "f24abce6-db8a-4936-940f-6d18c5d703c4"
      },
      "outputs": [
        {
          "output_type": "execute_result",
          "data": {
            "text/plain": [
              "Text(0.5, 1.0, 'Learning Curve')"
            ]
          },
          "metadata": {},
          "execution_count": 30
        },
        {
          "output_type": "display_data",
          "data": {
            "text/plain": [
              "<Figure size 432x288 with 1 Axes>"
            ],
            "image/png": "[encoded data removed]"
          },
          "metadata": {
            "needs_background": "light"
          }
        }
      ],
      "source": [
        "lcd = LearningCurveDisplay.from_estimator(net, X, y, score_type='both', \n",
        "                std_display_style=None, score_name='Accuracy', \n",
        "                scoring=make_scorer(accuracy_score))\n",
        "lcd.ax_.set_title('Learning Curve')"
      ]
    },
    {
      "cell_type": "code",
      "source": [
        "lcd.ax_.get_figure().savefig('bias.png', facecolor='white', transparent=False)"
      ],
      "metadata": {
        "id": "DNDrtDhcd3B2"
      },
      "execution_count": 31,
      "outputs": []
    }
  ],
  "metadata": {
    "accelerator": "GPU",
    "colab": {
      "provenance": []
    },
    "gpuClass": "standard",
    "kernelspec": {
      "display_name": "Python 3",
      "name": "python3"
    },
    "language_info": {
      "name": "python"
    }
  },
  "nbformat": 4,
  "nbformat_minor": 0
}