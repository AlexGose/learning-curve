{
  "nbformat": 4,
  "nbformat_minor": 0,
  "metadata": {
    "colab": {
      "provenance": []
    },
    "kernelspec": {
      "name": "python3",
      "display_name": "Python 3"
    },
    "language_info": {
      "name": "python"
    }
  },
  "cells": [
    {
      "cell_type": "markdown",
      "source": [
        "#  Simple Linear Regression Model\n",
        "\n",
        "This is Python code for an example plot of a learning curve using Scikit-learn with a simple one-variable linear regression Pytorch model.  The skorch library is used to wrap the Pytorch model in a NeuralNetRegressor object.  This object can be passed directly to the scikit-learn LearningCurveDisplay.from_estimator function, taking advantage of [duck typing](https://en.wikipedia.org/wiki/Duck_typing) in Scikit-learn."
      ],
      "metadata": {
        "id": "sNr7otXml-2H"
      }
    },
    {
      "cell_type": "code",
      "source": [
        "!pip list"
      ],
      "metadata": {
        "id": "ij7MLcbXpqY7"
      },
      "execution_count": null,
      "outputs": []
    },
    {
      "cell_type": "code",
      "source": [
        "# Packages to install on Google Colab\n",
        "!pip install --upgrade skorch scikit-learn # need scikit-learn v1.2"
      ],
      "metadata": {
        "id": "af_8kRwjp33L",
        "colab": {
          "base_uri": "https://localhost:8080/"
        },
        "outputId": "e5ea161c-466d-4a49-d8d0-0061b90f2f2f"
      },
      "execution_count": 2,
      "outputs": [
        {
          "output_type": "stream",
          "name": "stdout",
          "text": [
            "Looking in indexes: https://pypi.org/simple, https://us-python.pkg.dev/colab-wheels/public/simple/\n",
            "Requirement already satisfied: skorch in /usr/local/lib/python3.8/dist-packages (0.12.1)\n",
            "Requirement already satisfied: scikit-learn in /usr/local/lib/python3.8/dist-packages (1.2.1)\n",
            "Requirement already satisfied: scipy>=1.1.0 in /usr/local/lib/python3.8/dist-packages (from skorch) (1.7.3)\n",
            "Requirement already satisfied: numpy>=1.13.3 in /usr/local/lib/python3.8/dist-packages (from skorch) (1.21.6)\n",
            "Requirement already satisfied: tabulate>=0.7.7 in /usr/local/lib/python3.8/dist-packages (from skorch) (0.8.10)\n",
            "Requirement already satisfied: tqdm>=4.14.0 in /usr/local/lib/python3.8/dist-packages (from skorch) (4.64.1)\n",
            "Requirement already satisfied: threadpoolctl>=2.0.0 in /usr/local/lib/python3.8/dist-packages (from scikit-learn) (3.1.0)\n",
            "Requirement already satisfied: joblib>=1.1.1 in /usr/local/lib/python3.8/dist-packages (from scikit-learn) (1.2.0)\n"
          ]
        }
      ]
    },
    {
      "cell_type": "code",
      "source": [
        "import numpy as np\n",
        "from sklearn.model_selection import LearningCurveDisplay\n",
        "from sklearn.metrics import mean_squared_error, make_scorer\n",
        "import torch\n",
        "import torch.nn as nn\n",
        "from skorch import NeuralNetRegressor"
      ],
      "metadata": {
        "id": "op2L6TkKfzol"
      },
      "execution_count": 3,
      "outputs": []
    },
    {
      "cell_type": "code",
      "source": [
        "# generate training data\n",
        "np.random.seed(0)\n",
        "N = 100 # number of data points\n",
        "X = np.random.random(N)*10\n",
        "X = X.reshape((-1,1))\n",
        "y = 3*X + 1 + np.random.randn(N,1)\n",
        "y = y.reshape((-1,1))"
      ],
      "metadata": {
        "id": "VhRyl_MlAyjn"
      },
      "execution_count": 4,
      "outputs": []
    },
    {
      "cell_type": "code",
      "source": [
        "X = torch.from_numpy(X.astype(np.float32))\n",
        "y = torch.from_numpy(y.astype(np.float32))"
      ],
      "metadata": {
        "id": "DRUMgXBdJe4O"
      },
      "execution_count": 5,
      "outputs": []
    },
    {
      "cell_type": "code",
      "source": [
        "class LinearRegressionModule(nn.Module):\n",
        "    def __init__(self, num_inputs=1):\n",
        "        super().__init__()\n",
        "        self.linear_regression = nn.Linear(num_inputs,1)\n",
        "\n",
        "    def forward(self, X, **kwargs):\n",
        "        X = self.linear_regression(X)\n",
        "        return X"
      ],
      "metadata": {
        "id": "XZsh2hP3fzqr"
      },
      "execution_count": 6,
      "outputs": []
    },
    {
      "cell_type": "code",
      "source": [
        "nnr = NeuralNetRegressor(\n",
        "    module = LinearRegressionModule,\n",
        "    lr=0.01,\n",
        "    max_epochs=20,\n",
        "    verbose=0, # do not print table when \"fit\" is called\n",
        "    optimizer__momentum=.8\n",
        ")"
      ],
      "metadata": {
        "id": "i5gGqT2CfztB"
      },
      "execution_count": 7,
      "outputs": []
    },
    {
      "cell_type": "markdown",
      "source": [
        "The learning curves below show both the training and testing error falling to a low value, even for relatively small training set sizes.  A high bias or high variance model seems unlikely, which is what we expect since the data is generated in accordance with a linear regression model.  Also, collecting (or generating in this case) more training data is unlikely to improve the model, since the lines seem likely to continue along the x-axis at low y-values.\n",
        "\n",
        "Here, we are using 3-fold cross validation at each training set size.  Thus, the training set size cannot exceed 66, or 66% of the total data."
      ],
      "metadata": {
        "id": "4hrWTkSpfRYK"
      }
    },
    {
      "cell_type": "code",
      "source": [
        "lcd = LearningCurveDisplay.from_estimator(\n",
        "   nnr, X, y, score_type='both', score_name='Mean Squared Error', \n",
        "   scoring=make_scorer(mean_squared_error), std_display_style=None,\n",
        "   exploit_incremental_learning=True, cv=3,\n",
        "   train_sizes=np.concatenate((np.arange(5,20,5),\n",
        "                               np.arange(20,70,10),np.array([66]))))\n",
        "lcd.ax_.set_title('Learning Curve')\n",
        "lcd.ax_.legend(loc='upper right');"
      ],
      "metadata": {
        "colab": {
          "base_uri": "https://localhost:8080/",
          "height": 295
        },
        "id": "NfvvP79HY_JJ",
        "outputId": "7d1b8960-67a8-4ab3-c155-805d65f4c732"
      },
      "execution_count": 8,
      "outputs": [
        {
          "output_type": "display_data",
          "data": {
            "text/plain": [
              "<Figure size 432x288 with 1 Axes>"
            ],
            "image/png": "[encoded data removed]"
          },
          "metadata": {
            "needs_background": "light"
          }
        }
      ]
    },
    {
      "cell_type": "code",
      "source": [
        "lcd.ax_.get_figure().savefig('linear_regression.png')"
      ],
      "metadata": {
        "id": "_gXt7Ghazldr"
      },
      "execution_count": 9,
      "outputs": []
    }
  ]
}